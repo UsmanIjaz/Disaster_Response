{
 "cells": [
  {
   "cell_type": "markdown",
   "metadata": {},
   "source": [
    "# ML Pipeline Preparation\n",
    "Follow the instructions below to help you create your ML pipeline.\n",
    "### 1. Import libraries and load data from database.\n",
    "- Import Python libraries\n",
    "- Load dataset from database with [`read_sql_table`](https://pandas.pydata.org/pandas-docs/stable/generated/pandas.read_sql_table.html)\n",
    "- Define feature and target variables X and Y"
   ]
  },
  {
   "cell_type": "code",
   "execution_count": 1,
   "metadata": {},
   "outputs": [
    {
     "name": "stdout",
     "output_type": "stream",
     "text": [
      "[nltk_data] Downloading package punkt to /root/nltk_data...\n",
      "[nltk_data]   Unzipping tokenizers/punkt.zip.\n",
      "[nltk_data] Downloading package stopwords to /root/nltk_data...\n",
      "[nltk_data]   Unzipping corpora/stopwords.zip.\n",
      "[nltk_data] Downloading package wordnet to /root/nltk_data...\n",
      "[nltk_data]   Unzipping corpora/wordnet.zip.\n",
      "Collecting langid\n",
      "  Downloading https://files.pythonhosted.org/packages/ea/4c/0fb7d900d3b0b9c8703be316fbddffecdab23c64e1b46c7a83561d78bd43/langid-1.1.6.tar.gz (1.9MB)\n",
      "\u001b[K    100% |████████████████████████████████| 1.9MB 315kB/s ta 0:00:01   2% |▉                               | 51kB 1.0MB/s eta 0:00:02\n",
      "\u001b[?25hRequirement already satisfied: numpy in /opt/conda/lib/python3.6/site-packages (from langid)\n",
      "Building wheels for collected packages: langid\n",
      "  Running setup.py bdist_wheel for langid ... \u001b[?25ldone\n",
      "\u001b[?25h  Stored in directory: /root/.cache/pip/wheels/29/bc/61/50a93be85d1afe9436c3dc61f38da8ad7b637a38af4824e86e\n",
      "Successfully built langid\n",
      "Installing collected packages: langid\n",
      "Successfully installed langid-1.1.6\n",
      "\u001b[33mYou are using pip version 9.0.1, however version 18.1 is available.\n",
      "You should consider upgrading via the 'pip install --upgrade pip' command.\u001b[0m\n"
     ]
    }
   ],
   "source": [
    "# import libraries\n",
    "\n",
    "\n",
    "import re\n",
    "import nltk\n",
    "from nltk.corpus import stopwords\n",
    "from nltk.stem.wordnet import WordNetLemmatizer\n",
    "from nltk.tokenize import word_tokenize\n",
    "\n",
    "nltk.download('punkt')\n",
    "nltk.download('stopwords')\n",
    "nltk.download('wordnet')\n",
    "\n",
    "import pandas as pd\n",
    "import numpy as np\n",
    "import matplotlib.pyplot as plt\n",
    "%matplotlib inline \n",
    "\n",
    "from sqlalchemy import create_engine,MetaData, Table, select\n",
    "\n",
    "from sklearn.pipeline import Pipeline, FeatureUnion\n",
    "from sklearn.metrics import confusion_matrix, accuracy_score\n",
    "from sklearn.model_selection import train_test_split,GridSearchCV\n",
    "from sklearn.ensemble import RandomForestClassifier\n",
    "from sklearn.feature_extraction.text import CountVectorizer, TfidfTransformer, TfidfVectorizer\n",
    "from sklearn.tree import DecisionTreeClassifier, ExtraTreeClassifier\n",
    "from sklearn.neighbors import KNeighborsClassifier,RadiusNeighborsClassifier\n",
    "from sklearn.naive_bayes import MultinomialNB\n",
    "from sklearn.svm import LinearSVC\n",
    "from sklearn.linear_model import LogisticRegression,LogisticRegressionCV\n",
    "\n",
    "\n",
    "from nltk.corpus import stopwords\n",
    "stop_words = set(stopwords.words('english'))\n",
    "from sklearn.metrics import classification_report\n",
    "from sklearn.multioutput import MultiOutputClassifier\n",
    "from sklearn.base import BaseEstimator, TransformerMixin\n",
    "\n",
    "!pip install langid\n",
    "import langid\n",
    "from bs4 import BeautifulSoup\n",
    "\n",
    "from nltk.tokenize import WordPunctTokenizer\n",
    "tok = WordPunctTokenizer()\n",
    "from nltk.tokenize import word_tokenize\n",
    "from nltk.stem import WordNetLemmatizer\n",
    "import pickle"
   ]
  },
  {
   "cell_type": "code",
   "execution_count": 2,
   "metadata": {},
   "outputs": [],
   "source": [
    "# load data from database\n",
    "def load_data(database_filepath):\n",
    "    # load data from database\n",
    "    engine = create_engine('sqlite:///'+database_filepath)\n",
    "    conn = engine.connect()\n",
    "    df = pd.read_sql('SELECT * FROM Messages', con = conn)\n",
    "    X = df[['message','genre']].copy()\n",
    "    Y = df[df.columns[4:]].copy()\n",
    "    Y= Y.drop(['child_alone'], axis=1)                           \n",
    "    return X,Y,Y.columns.values\n",
    "\n"
   ]
  },
  {
   "cell_type": "markdown",
   "metadata": {},
   "source": [
    "### 2. Write a tokenization function to process your text data"
   ]
  },
  {
   "cell_type": "code",
   "execution_count": 3,
   "metadata": {},
   "outputs": [],
   "source": [
    "lemmatizer = WordNetLemmatizer()\n",
    "pat1 = r'@[A-Za-z0-9_]+'\n",
    "pat2 = r'https?://[^ ]+'\n",
    "combined_pat = r'|'.join((pat1, pat2))\n",
    "www_pat = r'www.[^ ]+'\n",
    "negations_dic = {\"isn't\":\"is not\", \"aren't\":\"are not\", \"wasn't\":\"was not\", \"weren't\":\"were not\",\n",
    "                \"haven't\":\"have not\",\"hasn't\":\"has not\",\"hadn't\":\"had not\",\"won't\":\"will not\",\n",
    "                \"wouldn't\":\"would not\", \"don't\":\"do not\", \"doesn't\":\"does not\",\"didn't\":\"did not\",\n",
    "                \"can't\":\"can not\",\"couldn't\":\"could not\",\"shouldn't\":\"should not\",\"mightn't\":\"might not\",\n",
    "                \"mustn't\":\"must not\"}\n",
    "neg_pattern = re.compile(r'\\b(' + '|'.join(negations_dic.keys()) + r')\\b')\n",
    "\n",
    "def tokenize(text):\n",
    "    soup = BeautifulSoup(text, 'lxml')\n",
    "    souped = soup.get_text()\n",
    "    try:\n",
    "        bom_removed = souped.decode(\"utf-8-sig\").replace(u\"\\ufffd\", \"?\")\n",
    "    except:\n",
    "        bom_removed = souped\n",
    "    stripped = re.sub(combined_pat, '', bom_removed)\n",
    "    stripped = re.sub(www_pat, '', stripped)\n",
    "    lower_case = stripped.lower()\n",
    "    neg_handled = neg_pattern.sub(lambda x: negations_dic[x.group()], lower_case)\n",
    "    letters_only = re.sub(\"[^a-zA-Z]\", \" \", neg_handled)\n",
    "    # During the letters_only process two lines above, it has created unnecessay white spaces,\n",
    "    # I will tokenize and join together to remove unneccessary white spaces\n",
    "    words = [x for x  in tok.tokenize(letters_only) if len(x) > 1]\n",
    "    # lemmatize andremove stop words\n",
    "    tokens = [lemmatizer.lemmatize(word) for word in words if word not in stop_words]\n",
    "    #cleaned_text = (\" \".join(words)).strip()\n",
    "    \n",
    "    return tokens\n"
   ]
  },
  {
   "cell_type": "markdown",
   "metadata": {},
   "source": [
    "### 3. Build a machine learning pipeline\n",
    "- You'll find the [MultiOutputClassifier](http://scikit-learn.org/stable/modules/generated/sklearn.multioutput.MultiOutputClassifier.html) helpful for predicting multiple target variables."
   ]
  },
  {
   "cell_type": "code",
   "execution_count": 4,
   "metadata": {},
   "outputs": [],
   "source": [
    "class TextSelector(BaseEstimator, TransformerMixin):\n",
    "    \"\"\"\n",
    "    Transformer to select a single column from the data frame to perform additional transformations on\n",
    "    Use on text columns in the data\n",
    "    \"\"\"\n",
    "    def __init__(self, key):\n",
    "        self.key = key\n",
    "\n",
    "    def fit(self, X, y=None):\n",
    "        return self\n",
    "\n",
    "    def transform(self, X):\n",
    "        return X[self.key]\n",
    "    \n",
    "class NumberSelector(BaseEstimator, TransformerMixin):\n",
    "    \"\"\"\n",
    "    Transformer to select a single column from the data frame to perform additional transformations on\n",
    "    Use on numeric columns in the data\n",
    "    \"\"\"\n",
    "    def __init__(self, key):\n",
    "        self.key = key\n",
    "\n",
    "    def fit(self, X, y=None):\n",
    "        return self\n",
    "\n",
    "    def transform(self, X):\n",
    "        return self\n",
    "\n",
    "class ColumnExtractor(BaseEstimator, TransformerMixin):\n",
    "\n",
    "    def __init__(self, cols):\n",
    "        self.cols = cols\n",
    "\n",
    "    def fit(self, X, y=None):\n",
    "        # stateless transformer\n",
    "        return self\n",
    "\n",
    "    def transform(self, X):\n",
    "        # assumes X is a DataFrame\n",
    "        Xcols = X[self.cols]\n",
    "        return Xcols\n",
    "    \n",
    "from sklearn.feature_extraction import DictVectorizer\n",
    "\n",
    "class DummyTransformer(BaseEstimator, TransformerMixin):\n",
    "\n",
    "    def __init__(self):\n",
    "        self.dv = None\n",
    "\n",
    "    def fit(self, X, y=None):\n",
    "        # assumes all columns of X are strings\n",
    "        Xdict = X.to_dict('records')\n",
    "        self.dv = DictVectorizer(sparse=False)\n",
    "        self.dv.fit(Xdict)\n",
    "        return self\n",
    "\n",
    "    def transform(self, X):\n",
    "        # assumes X is a DataFrame\n",
    "        Xdict = X.to_dict('records')\n",
    "        Xt = self.dv.transform(Xdict)\n",
    "        cols = self.dv.get_feature_names()\n",
    "        Xdum = pd.DataFrame(Xt, index=X.index, columns=cols)\n",
    "        # drop column indicating NaNs\n",
    "        nan_cols = [c for c in cols if '=' not in c]\n",
    "        Xdum = Xdum.drop(nan_cols, axis=1)\n",
    "        return Xdum\n"
   ]
  },
  {
   "cell_type": "code",
   "execution_count": 5,
   "metadata": {},
   "outputs": [],
   "source": [
    "def evaluate_model(model, X_test, Y_test, category_names):\n",
    "    y_pred = model.predict(X_test)\n",
    "    print(classification_report(Y_test, y_pred, target_names=category_names))\n"
   ]
  },
  {
   "cell_type": "code",
   "execution_count": 6,
   "metadata": {},
   "outputs": [],
   "source": [
    "def save_model(model, model_filepath):\n",
    "    pickle.dump( model, open( model_filepath, \"wb\" ) )"
   ]
  },
  {
   "cell_type": "code",
   "execution_count": 7,
   "metadata": {},
   "outputs": [],
   "source": [
    "def build_model():\n",
    "\n",
    "    pipeline = Pipeline([\n",
    "        ('features',FeatureUnion([\n",
    "            \n",
    "            ('message', Pipeline([\n",
    "                    ('selector', TextSelector(key='message')),\n",
    "                    ('vect', CountVectorizer(tokenizer=tokenize)),\n",
    "                    ('tfidf', TfidfTransformer())\n",
    "                ]))\n",
    "            \n",
    "                         ])),\n",
    "        \n",
    "        ('clf', MultiOutputClassifier(LinearSVC(multi_class=\"crammer_singer\"), n_jobs=1))\n",
    "    ])\n",
    "    \n",
    "    return pipeline"
   ]
  },
  {
   "cell_type": "markdown",
   "metadata": {},
   "source": [
    "### 4. Train pipeline\n",
    "- Split data into train and test sets\n",
    "- Train pipeline"
   ]
  },
  {
   "cell_type": "code",
   "execution_count": 8,
   "metadata": {},
   "outputs": [
    {
     "name": "stdout",
     "output_type": "stream",
     "text": [
      "Loading data...\n",
      "    DATABASE: DisasterResponse.db\n",
      "25825\n",
      "Building model...\n",
      "Training model...\n"
     ]
    },
    {
     "data": {
      "text/plain": [
       "Pipeline(memory=None,\n",
       "     steps=[('features', FeatureUnion(n_jobs=1,\n",
       "       transformer_list=[('message', Pipeline(memory=None,\n",
       "     steps=[('selector', TextSelector(key='message')), ('vect', CountVectorizer(analyzer='word', binary=False, decode_error='strict',\n",
       "        dtype=<class 'numpy.int64'>, encoding='utf-8', input='co...rammer_singer', penalty='l2', random_state=None,\n",
       "     tol=0.0001, verbose=0),\n",
       "           n_jobs=1))])"
      ]
     },
     "execution_count": 8,
     "metadata": {},
     "output_type": "execute_result"
    }
   ],
   "source": [
    "database_filepath = 'DisasterResponse.db'\n",
    "print('Loading data...\\n    DATABASE: {}'.format(database_filepath))\n",
    "X, Y, category_names = load_data(database_filepath)\n",
    "print(X.shape[0])\n",
    "X_train, X_test, Y_train, Y_test = train_test_split(X, Y, test_size=0.2)\n",
    "\n",
    "print('Building model...')\n",
    "model = build_model()\n",
    "\n",
    "print('Training model...')\n",
    "model.fit(X_train, Y_train)"
   ]
  },
  {
   "cell_type": "markdown",
   "metadata": {},
   "source": [
    "### 5. Test your model\n",
    "Report the f1 score, precision and recall on both the training set and the test set. You can use sklearn's `classification_report` function here. "
   ]
  },
  {
   "cell_type": "code",
   "execution_count": 9,
   "metadata": {},
   "outputs": [
    {
     "name": "stdout",
     "output_type": "stream",
     "text": [
      "Evaluating model...\n",
      "                        precision    recall  f1-score   support\n",
      "\n",
      "               related       0.86      0.91      0.89      3917\n",
      "               request       0.75      0.54      0.63       888\n",
      "                 offer       0.00      0.00      0.00        27\n",
      "           aid_related       0.72      0.70      0.71      2132\n",
      "          medical_help       0.58      0.26      0.36       445\n",
      "      medical_products       0.64      0.31      0.42       265\n",
      "     search_and_rescue       0.60      0.16      0.25       160\n",
      "              security       0.50      0.01      0.02       104\n",
      "              military       0.60      0.37      0.46       171\n",
      "                 water       0.77      0.70      0.73       310\n",
      "                  food       0.82      0.75      0.78       574\n",
      "               shelter       0.75      0.58      0.65       445\n",
      "              clothing       0.70      0.59      0.64        66\n",
      "                 money       0.45      0.20      0.28       116\n",
      "        missing_people       0.86      0.10      0.18        60\n",
      "              refugees       0.57      0.20      0.30       185\n",
      "                 death       0.69      0.47      0.56       220\n",
      "             other_aid       0.46      0.18      0.26       687\n",
      "infrastructure_related       0.47      0.06      0.11       338\n",
      "             transport       0.74      0.20      0.32       265\n",
      "             buildings       0.65      0.45      0.53       237\n",
      "           electricity       0.60      0.27      0.37       107\n",
      "                 tools       0.00      0.00      0.00        29\n",
      "             hospitals       0.50      0.06      0.11        65\n",
      "                 shops       0.00      0.00      0.00        20\n",
      "           aid_centers       0.67      0.04      0.08        49\n",
      "  other_infrastructure       0.26      0.02      0.04       238\n",
      "       weather_related       0.82      0.70      0.76      1459\n",
      "                floods       0.85      0.53      0.65       443\n",
      "                 storm       0.71      0.64      0.67       520\n",
      "                  fire       0.70      0.29      0.41        55\n",
      "            earthquake       0.88      0.80      0.84       444\n",
      "                  cold       0.61      0.41      0.49       107\n",
      "         other_weather       0.53      0.17      0.26       280\n",
      "         direct_report       0.68      0.48      0.56      1004\n",
      "\n",
      "           avg / total       0.73      0.60      0.64     16432\n",
      "\n"
     ]
    },
    {
     "name": "stderr",
     "output_type": "stream",
     "text": [
      "/opt/conda/lib/python3.6/site-packages/sklearn/metrics/classification.py:1135: UndefinedMetricWarning: Precision and F-score are ill-defined and being set to 0.0 in labels with no predicted samples.\n",
      "  'precision', 'predicted', average, warn_for)\n"
     ]
    }
   ],
   "source": [
    "print('Evaluating model...')\n",
    "evaluate_model(model, X_test, Y_test, category_names)\n",
    "\n",
    "#print('Saving model...\\n    MODEL: {}'.format(model_filepath))\n",
    "#save_model(model, model_filepath)\n",
    "\n",
    "#print('Trained model saved!')\n",
    "\n"
   ]
  },
  {
   "cell_type": "markdown",
   "metadata": {},
   "source": [
    "### 6. Improve your model\n",
    "Use grid search to find better parameters. "
   ]
  },
  {
   "cell_type": "code",
   "execution_count": 10,
   "metadata": {},
   "outputs": [],
   "source": [
    "def build_model():\n",
    "\n",
    "    pipeline = Pipeline([\n",
    "        ('features',FeatureUnion([\n",
    "            \n",
    "            ('message', Pipeline([\n",
    "                    ('selector', TextSelector(key='message')),\n",
    "                    ('vect', CountVectorizer(tokenizer=tokenize)),\n",
    "                    ('tfidf', TfidfTransformer())\n",
    "                ]))\n",
    "                         ])),\n",
    "        \n",
    "        ('clf', MultiOutputClassifier(LinearSVC(multi_class=\"crammer_singer\"), n_jobs=1))\n",
    "    ])\n",
    "    \n",
    "    parameters = {\n",
    "        'clf__estimator__C': [1, 1.2, 1.4],\n",
    "        'clf__estimator__max_iter': [1000, 1200, 1500],\n",
    "    } \n",
    "\n",
    "    cv = GridSearchCV(pipeline, parameters)\n",
    "    \n",
    "    return cv"
   ]
  },
  {
   "cell_type": "code",
   "execution_count": 11,
   "metadata": {},
   "outputs": [
    {
     "name": "stdout",
     "output_type": "stream",
     "text": [
      "Building model...\n",
      "Training model...\n"
     ]
    },
    {
     "data": {
      "text/plain": [
       "GridSearchCV(cv=None, error_score='raise',\n",
       "       estimator=Pipeline(memory=None,\n",
       "     steps=[('features', FeatureUnion(n_jobs=1,\n",
       "       transformer_list=[('message', Pipeline(memory=None,\n",
       "     steps=[('selector', TextSelector(key='message')), ('vect', CountVectorizer(analyzer='word', binary=False, decode_error='strict',\n",
       "        dtype=<class 'numpy.int64'>, encoding='utf-8', input='co...rammer_singer', penalty='l2', random_state=None,\n",
       "     tol=0.0001, verbose=0),\n",
       "           n_jobs=1))]),\n",
       "       fit_params=None, iid=True, n_jobs=1,\n",
       "       param_grid={'clf__estimator__C': [1, 1.2, 1.4], 'clf__estimator__max_iter': [1000, 1200, 1500]},\n",
       "       pre_dispatch='2*n_jobs', refit=True, return_train_score='warn',\n",
       "       scoring=None, verbose=0)"
      ]
     },
     "execution_count": 11,
     "metadata": {},
     "output_type": "execute_result"
    }
   ],
   "source": [
    "print('Building model...')\n",
    "model = build_model()\n",
    "\n",
    "print('Training model...')\n",
    "model.fit(X_train, Y_train)\n",
    "\n"
   ]
  },
  {
   "cell_type": "code",
   "execution_count": 12,
   "metadata": {},
   "outputs": [
    {
     "data": {
      "text/plain": [
       "{'clf__estimator__C': 1, 'clf__estimator__max_iter': 1000}"
      ]
     },
     "execution_count": 12,
     "metadata": {},
     "output_type": "execute_result"
    }
   ],
   "source": [
    "model.best_params_"
   ]
  },
  {
   "cell_type": "markdown",
   "metadata": {},
   "source": [
    "## Observation\n",
    "It turns out that the default parameters are the best parameters"
   ]
  },
  {
   "cell_type": "markdown",
   "metadata": {},
   "source": [
    "### 7. Test your model\n",
    "Show the accuracy, precision, and recall of the tuned model."
   ]
  },
  {
   "cell_type": "code",
   "execution_count": 13,
   "metadata": {},
   "outputs": [
    {
     "name": "stdout",
     "output_type": "stream",
     "text": [
      "Evaluating model...\n",
      "                        precision    recall  f1-score   support\n",
      "\n",
      "               related       0.86      0.91      0.89      3917\n",
      "               request       0.75      0.54      0.63       888\n",
      "                 offer       0.00      0.00      0.00        27\n",
      "           aid_related       0.72      0.70      0.71      2132\n",
      "          medical_help       0.58      0.26      0.36       445\n",
      "      medical_products       0.64      0.31      0.42       265\n",
      "     search_and_rescue       0.60      0.16      0.25       160\n",
      "              security       0.50      0.01      0.02       104\n",
      "              military       0.60      0.37      0.46       171\n",
      "                 water       0.77      0.70      0.73       310\n",
      "                  food       0.82      0.75      0.78       574\n",
      "               shelter       0.75      0.58      0.65       445\n",
      "              clothing       0.70      0.59      0.64        66\n",
      "                 money       0.45      0.20      0.28       116\n",
      "        missing_people       0.86      0.10      0.18        60\n",
      "              refugees       0.57      0.20      0.30       185\n",
      "                 death       0.69      0.47      0.56       220\n",
      "             other_aid       0.46      0.18      0.26       687\n",
      "infrastructure_related       0.47      0.06      0.11       338\n",
      "             transport       0.74      0.20      0.32       265\n",
      "             buildings       0.65      0.45      0.53       237\n",
      "           electricity       0.60      0.27      0.37       107\n",
      "                 tools       0.00      0.00      0.00        29\n",
      "             hospitals       0.50      0.06      0.11        65\n",
      "                 shops       0.00      0.00      0.00        20\n",
      "           aid_centers       0.67      0.04      0.08        49\n",
      "  other_infrastructure       0.26      0.02      0.04       238\n",
      "       weather_related       0.82      0.70      0.76      1459\n",
      "                floods       0.85      0.53      0.65       443\n",
      "                 storm       0.71      0.64      0.67       520\n",
      "                  fire       0.70      0.29      0.41        55\n",
      "            earthquake       0.88      0.80      0.84       444\n",
      "                  cold       0.61      0.41      0.49       107\n",
      "         other_weather       0.53      0.17      0.26       280\n",
      "         direct_report       0.68      0.48      0.56      1004\n",
      "\n",
      "           avg / total       0.73      0.60      0.64     16432\n",
      "\n"
     ]
    },
    {
     "name": "stderr",
     "output_type": "stream",
     "text": [
      "/opt/conda/lib/python3.6/site-packages/sklearn/metrics/classification.py:1135: UndefinedMetricWarning: Precision and F-score are ill-defined and being set to 0.0 in labels with no predicted samples.\n",
      "  'precision', 'predicted', average, warn_for)\n"
     ]
    }
   ],
   "source": [
    "print('Evaluating model...')\n",
    "evaluate_model(model, X_test, Y_test, category_names)\n"
   ]
  },
  {
   "cell_type": "markdown",
   "metadata": {},
   "source": [
    "### 8. Try improving your model further. Here are a few ideas:\n",
    "* try other machine learning algorithms\n",
    "* add other features besides the TF-IDF"
   ]
  },
  {
   "cell_type": "code",
   "execution_count": 14,
   "metadata": {},
   "outputs": [],
   "source": [
    "def build_model():\n",
    "\n",
    "    pipeline = Pipeline([\n",
    "        ('features',FeatureUnion([\n",
    "            \n",
    "            ('message', Pipeline([\n",
    "                    ('selector', TextSelector(key='message')),\n",
    "                    ('vect', CountVectorizer(tokenizer=tokenize)),\n",
    "                    ('tfidf', TfidfTransformer())\n",
    "                ])),\n",
    "\n",
    "            ('genre', Pipeline([\n",
    "                    ('extract', ColumnExtractor(['genre'])),\n",
    "                    ('dummy', DummyTransformer())\n",
    "            ]))\n",
    "                         ])),\n",
    "        \n",
    "        ('clf', MultiOutputClassifier(LinearSVC(multi_class=\"crammer_singer\"), n_jobs=1))\n",
    "    ])\n",
    "    \n",
    "    return pipeline"
   ]
  },
  {
   "cell_type": "code",
   "execution_count": 15,
   "metadata": {},
   "outputs": [
    {
     "name": "stdout",
     "output_type": "stream",
     "text": [
      "Building model...\n",
      "Training model...\n",
      "Evaluating model...\n",
      "                        precision    recall  f1-score   support\n",
      "\n",
      "               related       0.86      0.91      0.89      3917\n",
      "               request       0.76      0.56      0.65       888\n",
      "                 offer       0.00      0.00      0.00        27\n",
      "           aid_related       0.72      0.70      0.71      2132\n",
      "          medical_help       0.58      0.26      0.36       445\n",
      "      medical_products       0.64      0.31      0.42       265\n",
      "     search_and_rescue       0.60      0.16      0.25       160\n",
      "              security       0.50      0.01      0.02       104\n",
      "              military       0.61      0.36      0.45       171\n",
      "                 water       0.76      0.71      0.73       310\n",
      "                  food       0.82      0.74      0.78       574\n",
      "               shelter       0.75      0.58      0.65       445\n",
      "              clothing       0.71      0.59      0.64        66\n",
      "                 money       0.44      0.20      0.27       116\n",
      "        missing_people       0.86      0.10      0.18        60\n",
      "              refugees       0.57      0.20      0.30       185\n",
      "                 death       0.67      0.47      0.55       220\n",
      "             other_aid       0.46      0.18      0.26       687\n",
      "infrastructure_related       0.45      0.07      0.11       338\n",
      "             transport       0.75      0.20      0.32       265\n",
      "             buildings       0.64      0.44      0.52       237\n",
      "           electricity       0.59      0.27      0.37       107\n",
      "                 tools       0.00      0.00      0.00        29\n",
      "             hospitals       0.57      0.06      0.11        65\n",
      "                 shops       0.00      0.00      0.00        20\n",
      "           aid_centers       0.67      0.04      0.08        49\n",
      "  other_infrastructure       0.22      0.02      0.04       238\n",
      "       weather_related       0.81      0.71      0.75      1459\n",
      "                floods       0.85      0.53      0.65       443\n",
      "                 storm       0.71      0.62      0.66       520\n",
      "                  fire       0.73      0.29      0.42        55\n",
      "            earthquake       0.88      0.80      0.84       444\n",
      "                  cold       0.61      0.43      0.51       107\n",
      "         other_weather       0.53      0.19      0.27       280\n",
      "         direct_report       0.69      0.50      0.58      1004\n",
      "\n",
      "           avg / total       0.73      0.60      0.64     16432\n",
      "\n"
     ]
    },
    {
     "name": "stderr",
     "output_type": "stream",
     "text": [
      "/opt/conda/lib/python3.6/site-packages/sklearn/metrics/classification.py:1135: UndefinedMetricWarning: Precision and F-score are ill-defined and being set to 0.0 in labels with no predicted samples.\n",
      "  'precision', 'predicted', average, warn_for)\n"
     ]
    }
   ],
   "source": [
    "print('Building model...')\n",
    "model = build_model()\n",
    "\n",
    "print('Training model...')\n",
    "model.fit(X_train, Y_train)\n",
    "\n",
    "print('Evaluating model...')\n",
    "evaluate_model(model, X_test, Y_test, category_names)\n",
    "\n"
   ]
  },
  {
   "cell_type": "markdown",
   "metadata": {},
   "source": [
    "## Results with different classifiers\n",
    "\n",
    "\n",
    "|Classifier   |Precision   |Recall   |F1-score   |   |\n",
    "|---|---|---|---|---|\n",
    "| LinearSVC(multi_class=\"crammer_singer\")  |0.74   |0.62   |0.65   |   |\n",
    "| LogisticRegressionCV(multi_class=\"multinomial\")  |0.77   |0.34   |0.38   |   |\n",
    "| DecisionTreeClassifier()  |0.62   |0.60   |0.61   |   |\n",
    "| ExtraTreeClassifier(max_depth=3)  |0.55   |0.24   |0.22   |   |\n",
    "| KNeighborsClassifier(n_neighbors=3)  |0.57   |0.49   |0.52   |   |\n",
    "| RandomForestClassifier(n_estimators=100, max_depth=3,random_state=0)  |0.45   |0.24   |0.22   |   |"
   ]
  },
  {
   "cell_type": "markdown",
   "metadata": {},
   "source": [
    "### 9. Export your model as a pickle file"
   ]
  },
  {
   "cell_type": "code",
   "execution_count": 16,
   "metadata": {},
   "outputs": [
    {
     "name": "stdout",
     "output_type": "stream",
     "text": [
      "Saving model...\n",
      "    MODEL: classifier.p\n",
      "Trained model saved!\n"
     ]
    }
   ],
   "source": [
    "model_filepath = \"classifier.p\"\n",
    "print('Saving model...\\n    MODEL: {}'.format(model_filepath))\n",
    "save_model(model, model_filepath)\n",
    "\n",
    "print('Trained model saved!')"
   ]
  },
  {
   "cell_type": "markdown",
   "metadata": {},
   "source": [
    "### 10. Use this notebook to complete `train.py`\n",
    "Use the template file attached in the Resources folder to write a script that runs the steps above to create a database and export a model based on a new dataset specified by the user."
   ]
  },
  {
   "cell_type": "code",
   "execution_count": null,
   "metadata": {},
   "outputs": [],
   "source": []
  }
 ],
 "metadata": {
  "kernelspec": {
   "display_name": "Python 3",
   "language": "python",
   "name": "python3"
  },
  "language_info": {
   "codemirror_mode": {
    "name": "ipython",
    "version": 3
   },
   "file_extension": ".py",
   "mimetype": "text/x-python",
   "name": "python",
   "nbconvert_exporter": "python",
   "pygments_lexer": "ipython3",
   "version": "3.6.3"
  }
 },
 "nbformat": 4,
 "nbformat_minor": 2
}
